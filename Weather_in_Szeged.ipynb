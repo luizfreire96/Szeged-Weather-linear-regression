{
  "nbformat": 4,
  "nbformat_minor": 0,
  "metadata": {
    "colab": {
      "name": "Weather in Szeged.ipynb",
      "provenance": [],
      "mount_file_id": "1FuS7g0sg_BslMcCJ2qfRDrWWwgB6ihSr",
      "authorship_tag": "ABX9TyONCpuGfcy7xKEdb8eNK6AS",
      "include_colab_link": true
    },
    "kernelspec": {
      "name": "python3",
      "display_name": "Python 3"
    },
    "language_info": {
      "name": "python"
    }
  },
  "cells": [
    {
      "cell_type": "markdown",
      "metadata": {
        "id": "view-in-github",
        "colab_type": "text"
      },
      "source": [
        "<a href=\"https://colab.research.google.com/github/luizfreire96/Szeged-Weather-linear-regression/blob/main/Weather_in_Szeged.ipynb\" target=\"_parent\"><img src=\"https://colab.research.google.com/assets/colab-badge.svg\" alt=\"Open In Colab\"/></a>"
      ]
    },
    {
      "cell_type": "markdown",
      "source": [
        "# Weather in Szeged"
      ],
      "metadata": {
        "id": "ocHFwdIekRej"
      }
    },
    {
      "cell_type": "markdown",
      "source": [
        "In this notebook we will try to create a model that predict the temperature and apparent temperature with linear regression.\n",
        "Initially with simple linear regression, then we will try to put more variables."
      ],
      "metadata": {
        "id": "HZwNcFaLkq9-"
      }
    },
    {
      "cell_type": "markdown",
      "source": [
        "# Checking the data"
      ],
      "metadata": {
        "id": "YBIdgIknn6u9"
      }
    },
    {
      "cell_type": "markdown",
      "source": [
        "First of all we will import the libraries, data and take a brief look at the data."
      ],
      "metadata": {
        "id": "taSvZNVEn_sI"
      }
    },
    {
      "cell_type": "code",
      "execution_count": 47,
      "metadata": {
        "id": "Yeu8XcEckFwr"
      },
      "outputs": [],
      "source": [
        "import pandas as pd\n",
        "from matplotlib import pyplot as plt\n",
        "from sklearn.linear_model import LinearRegression\n",
        "from sklearn.model_selection import train_test_split\n",
        "import numpy as np"
      ]
    },
    {
      "cell_type": "code",
      "source": [
        "df = pd.read_csv('/content/drive/MyDrive/Weather in Szeged/weatherHistory.csv')"
      ],
      "metadata": {
        "id": "AXEySRYTon5D"
      },
      "execution_count": 48,
      "outputs": []
    },
    {
      "cell_type": "code",
      "source": [
        "df.head()"
      ],
      "metadata": {
        "colab": {
          "base_uri": "https://localhost:8080/",
          "height": 459
        },
        "id": "xZ6M3LBSo_c3",
        "outputId": "cb5bb750-4f67-41d3-c37e-34be59cb5498"
      },
      "execution_count": 49,
      "outputs": [
        {
          "output_type": "execute_result",
          "data": {
            "text/plain": [
              "                  Formatted Date        Summary Precip Type  Temperature (C)  \\\n",
              "0  2006-04-01 00:00:00.000 +0200  Partly Cloudy        rain         9.472222   \n",
              "1  2006-04-01 01:00:00.000 +0200  Partly Cloudy        rain         9.355556   \n",
              "2  2006-04-01 02:00:00.000 +0200  Mostly Cloudy        rain         9.377778   \n",
              "3  2006-04-01 03:00:00.000 +0200  Partly Cloudy        rain         8.288889   \n",
              "4  2006-04-01 04:00:00.000 +0200  Mostly Cloudy        rain         8.755556   \n",
              "\n",
              "   Apparent Temperature (C)  Humidity  Wind Speed (km/h)  \\\n",
              "0                  7.388889      0.89            14.1197   \n",
              "1                  7.227778      0.86            14.2646   \n",
              "2                  9.377778      0.89             3.9284   \n",
              "3                  5.944444      0.83            14.1036   \n",
              "4                  6.977778      0.83            11.0446   \n",
              "\n",
              "   Wind Bearing (degrees)  Visibility (km)  Loud Cover  Pressure (millibars)  \\\n",
              "0                   251.0          15.8263         0.0               1015.13   \n",
              "1                   259.0          15.8263         0.0               1015.63   \n",
              "2                   204.0          14.9569         0.0               1015.94   \n",
              "3                   269.0          15.8263         0.0               1016.41   \n",
              "4                   259.0          15.8263         0.0               1016.51   \n",
              "\n",
              "                       Daily Summary  \n",
              "0  Partly cloudy throughout the day.  \n",
              "1  Partly cloudy throughout the day.  \n",
              "2  Partly cloudy throughout the day.  \n",
              "3  Partly cloudy throughout the day.  \n",
              "4  Partly cloudy throughout the day.  "
            ],
            "text/html": [
              "\n",
              "  <div id=\"df-1f31401c-2a7c-4c6b-bf0f-1308f7458d2a\">\n",
              "    <div class=\"colab-df-container\">\n",
              "      <div>\n",
              "<style scoped>\n",
              "    .dataframe tbody tr th:only-of-type {\n",
              "        vertical-align: middle;\n",
              "    }\n",
              "\n",
              "    .dataframe tbody tr th {\n",
              "        vertical-align: top;\n",
              "    }\n",
              "\n",
              "    .dataframe thead th {\n",
              "        text-align: right;\n",
              "    }\n",
              "</style>\n",
              "<table border=\"1\" class=\"dataframe\">\n",
              "  <thead>\n",
              "    <tr style=\"text-align: right;\">\n",
              "      <th></th>\n",
              "      <th>Formatted Date</th>\n",
              "      <th>Summary</th>\n",
              "      <th>Precip Type</th>\n",
              "      <th>Temperature (C)</th>\n",
              "      <th>Apparent Temperature (C)</th>\n",
              "      <th>Humidity</th>\n",
              "      <th>Wind Speed (km/h)</th>\n",
              "      <th>Wind Bearing (degrees)</th>\n",
              "      <th>Visibility (km)</th>\n",
              "      <th>Loud Cover</th>\n",
              "      <th>Pressure (millibars)</th>\n",
              "      <th>Daily Summary</th>\n",
              "    </tr>\n",
              "  </thead>\n",
              "  <tbody>\n",
              "    <tr>\n",
              "      <th>0</th>\n",
              "      <td>2006-04-01 00:00:00.000 +0200</td>\n",
              "      <td>Partly Cloudy</td>\n",
              "      <td>rain</td>\n",
              "      <td>9.472222</td>\n",
              "      <td>7.388889</td>\n",
              "      <td>0.89</td>\n",
              "      <td>14.1197</td>\n",
              "      <td>251.0</td>\n",
              "      <td>15.8263</td>\n",
              "      <td>0.0</td>\n",
              "      <td>1015.13</td>\n",
              "      <td>Partly cloudy throughout the day.</td>\n",
              "    </tr>\n",
              "    <tr>\n",
              "      <th>1</th>\n",
              "      <td>2006-04-01 01:00:00.000 +0200</td>\n",
              "      <td>Partly Cloudy</td>\n",
              "      <td>rain</td>\n",
              "      <td>9.355556</td>\n",
              "      <td>7.227778</td>\n",
              "      <td>0.86</td>\n",
              "      <td>14.2646</td>\n",
              "      <td>259.0</td>\n",
              "      <td>15.8263</td>\n",
              "      <td>0.0</td>\n",
              "      <td>1015.63</td>\n",
              "      <td>Partly cloudy throughout the day.</td>\n",
              "    </tr>\n",
              "    <tr>\n",
              "      <th>2</th>\n",
              "      <td>2006-04-01 02:00:00.000 +0200</td>\n",
              "      <td>Mostly Cloudy</td>\n",
              "      <td>rain</td>\n",
              "      <td>9.377778</td>\n",
              "      <td>9.377778</td>\n",
              "      <td>0.89</td>\n",
              "      <td>3.9284</td>\n",
              "      <td>204.0</td>\n",
              "      <td>14.9569</td>\n",
              "      <td>0.0</td>\n",
              "      <td>1015.94</td>\n",
              "      <td>Partly cloudy throughout the day.</td>\n",
              "    </tr>\n",
              "    <tr>\n",
              "      <th>3</th>\n",
              "      <td>2006-04-01 03:00:00.000 +0200</td>\n",
              "      <td>Partly Cloudy</td>\n",
              "      <td>rain</td>\n",
              "      <td>8.288889</td>\n",
              "      <td>5.944444</td>\n",
              "      <td>0.83</td>\n",
              "      <td>14.1036</td>\n",
              "      <td>269.0</td>\n",
              "      <td>15.8263</td>\n",
              "      <td>0.0</td>\n",
              "      <td>1016.41</td>\n",
              "      <td>Partly cloudy throughout the day.</td>\n",
              "    </tr>\n",
              "    <tr>\n",
              "      <th>4</th>\n",
              "      <td>2006-04-01 04:00:00.000 +0200</td>\n",
              "      <td>Mostly Cloudy</td>\n",
              "      <td>rain</td>\n",
              "      <td>8.755556</td>\n",
              "      <td>6.977778</td>\n",
              "      <td>0.83</td>\n",
              "      <td>11.0446</td>\n",
              "      <td>259.0</td>\n",
              "      <td>15.8263</td>\n",
              "      <td>0.0</td>\n",
              "      <td>1016.51</td>\n",
              "      <td>Partly cloudy throughout the day.</td>\n",
              "    </tr>\n",
              "  </tbody>\n",
              "</table>\n",
              "</div>\n",
              "      <button class=\"colab-df-convert\" onclick=\"convertToInteractive('df-1f31401c-2a7c-4c6b-bf0f-1308f7458d2a')\"\n",
              "              title=\"Convert this dataframe to an interactive table.\"\n",
              "              style=\"display:none;\">\n",
              "        \n",
              "  <svg xmlns=\"http://www.w3.org/2000/svg\" height=\"24px\"viewBox=\"0 0 24 24\"\n",
              "       width=\"24px\">\n",
              "    <path d=\"M0 0h24v24H0V0z\" fill=\"none\"/>\n",
              "    <path d=\"M18.56 5.44l.94 2.06.94-2.06 2.06-.94-2.06-.94-.94-2.06-.94 2.06-2.06.94zm-11 1L8.5 8.5l.94-2.06 2.06-.94-2.06-.94L8.5 2.5l-.94 2.06-2.06.94zm10 10l.94 2.06.94-2.06 2.06-.94-2.06-.94-.94-2.06-.94 2.06-2.06.94z\"/><path d=\"M17.41 7.96l-1.37-1.37c-.4-.4-.92-.59-1.43-.59-.52 0-1.04.2-1.43.59L10.3 9.45l-7.72 7.72c-.78.78-.78 2.05 0 2.83L4 21.41c.39.39.9.59 1.41.59.51 0 1.02-.2 1.41-.59l7.78-7.78 2.81-2.81c.8-.78.8-2.07 0-2.86zM5.41 20L4 18.59l7.72-7.72 1.47 1.35L5.41 20z\"/>\n",
              "  </svg>\n",
              "      </button>\n",
              "      \n",
              "  <style>\n",
              "    .colab-df-container {\n",
              "      display:flex;\n",
              "      flex-wrap:wrap;\n",
              "      gap: 12px;\n",
              "    }\n",
              "\n",
              "    .colab-df-convert {\n",
              "      background-color: #E8F0FE;\n",
              "      border: none;\n",
              "      border-radius: 50%;\n",
              "      cursor: pointer;\n",
              "      display: none;\n",
              "      fill: #1967D2;\n",
              "      height: 32px;\n",
              "      padding: 0 0 0 0;\n",
              "      width: 32px;\n",
              "    }\n",
              "\n",
              "    .colab-df-convert:hover {\n",
              "      background-color: #E2EBFA;\n",
              "      box-shadow: 0px 1px 2px rgba(60, 64, 67, 0.3), 0px 1px 3px 1px rgba(60, 64, 67, 0.15);\n",
              "      fill: #174EA6;\n",
              "    }\n",
              "\n",
              "    [theme=dark] .colab-df-convert {\n",
              "      background-color: #3B4455;\n",
              "      fill: #D2E3FC;\n",
              "    }\n",
              "\n",
              "    [theme=dark] .colab-df-convert:hover {\n",
              "      background-color: #434B5C;\n",
              "      box-shadow: 0px 1px 3px 1px rgba(0, 0, 0, 0.15);\n",
              "      filter: drop-shadow(0px 1px 2px rgba(0, 0, 0, 0.3));\n",
              "      fill: #FFFFFF;\n",
              "    }\n",
              "  </style>\n",
              "\n",
              "      <script>\n",
              "        const buttonEl =\n",
              "          document.querySelector('#df-1f31401c-2a7c-4c6b-bf0f-1308f7458d2a button.colab-df-convert');\n",
              "        buttonEl.style.display =\n",
              "          google.colab.kernel.accessAllowed ? 'block' : 'none';\n",
              "\n",
              "        async function convertToInteractive(key) {\n",
              "          const element = document.querySelector('#df-1f31401c-2a7c-4c6b-bf0f-1308f7458d2a');\n",
              "          const dataTable =\n",
              "            await google.colab.kernel.invokeFunction('convertToInteractive',\n",
              "                                                     [key], {});\n",
              "          if (!dataTable) return;\n",
              "\n",
              "          const docLinkHtml = 'Like what you see? Visit the ' +\n",
              "            '<a target=\"_blank\" href=https://colab.research.google.com/notebooks/data_table.ipynb>data table notebook</a>'\n",
              "            + ' to learn more about interactive tables.';\n",
              "          element.innerHTML = '';\n",
              "          dataTable['output_type'] = 'display_data';\n",
              "          await google.colab.output.renderOutput(dataTable, element);\n",
              "          const docLink = document.createElement('div');\n",
              "          docLink.innerHTML = docLinkHtml;\n",
              "          element.appendChild(docLink);\n",
              "        }\n",
              "      </script>\n",
              "    </div>\n",
              "  </div>\n",
              "  "
            ]
          },
          "metadata": {},
          "execution_count": 49
        }
      ]
    },
    {
      "cell_type": "markdown",
      "source": [
        "The time should be a parameter that have a strong correlation with temperature, let's use the month and the hour."
      ],
      "metadata": {
        "id": "AQyfmqko7KOm"
      }
    },
    {
      "cell_type": "code",
      "source": [
        "df['Hour'] = df['Formatted Date'].str.slice(start=11, stop=13, step=1).astype(float)\n",
        "df['Month'] = df['Formatted Date'].str.slice(start=5, stop=7, step=1).astype(float)\n",
        "df.head()"
      ],
      "metadata": {
        "colab": {
          "base_uri": "https://localhost:8080/",
          "height": 545
        },
        "id": "Dkx23rx38CFe",
        "outputId": "ec0d4426-d721-43c6-954f-21e4a2da25fa"
      },
      "execution_count": 50,
      "outputs": [
        {
          "output_type": "execute_result",
          "data": {
            "text/plain": [
              "                  Formatted Date        Summary Precip Type  Temperature (C)  \\\n",
              "0  2006-04-01 00:00:00.000 +0200  Partly Cloudy        rain         9.472222   \n",
              "1  2006-04-01 01:00:00.000 +0200  Partly Cloudy        rain         9.355556   \n",
              "2  2006-04-01 02:00:00.000 +0200  Mostly Cloudy        rain         9.377778   \n",
              "3  2006-04-01 03:00:00.000 +0200  Partly Cloudy        rain         8.288889   \n",
              "4  2006-04-01 04:00:00.000 +0200  Mostly Cloudy        rain         8.755556   \n",
              "\n",
              "   Apparent Temperature (C)  Humidity  Wind Speed (km/h)  \\\n",
              "0                  7.388889      0.89            14.1197   \n",
              "1                  7.227778      0.86            14.2646   \n",
              "2                  9.377778      0.89             3.9284   \n",
              "3                  5.944444      0.83            14.1036   \n",
              "4                  6.977778      0.83            11.0446   \n",
              "\n",
              "   Wind Bearing (degrees)  Visibility (km)  Loud Cover  Pressure (millibars)  \\\n",
              "0                   251.0          15.8263         0.0               1015.13   \n",
              "1                   259.0          15.8263         0.0               1015.63   \n",
              "2                   204.0          14.9569         0.0               1015.94   \n",
              "3                   269.0          15.8263         0.0               1016.41   \n",
              "4                   259.0          15.8263         0.0               1016.51   \n",
              "\n",
              "                       Daily Summary  Hour  Month  \n",
              "0  Partly cloudy throughout the day.   0.0    4.0  \n",
              "1  Partly cloudy throughout the day.   1.0    4.0  \n",
              "2  Partly cloudy throughout the day.   2.0    4.0  \n",
              "3  Partly cloudy throughout the day.   3.0    4.0  \n",
              "4  Partly cloudy throughout the day.   4.0    4.0  "
            ],
            "text/html": [
              "\n",
              "  <div id=\"df-73ff5074-36df-46d0-a4da-208cca498fd0\">\n",
              "    <div class=\"colab-df-container\">\n",
              "      <div>\n",
              "<style scoped>\n",
              "    .dataframe tbody tr th:only-of-type {\n",
              "        vertical-align: middle;\n",
              "    }\n",
              "\n",
              "    .dataframe tbody tr th {\n",
              "        vertical-align: top;\n",
              "    }\n",
              "\n",
              "    .dataframe thead th {\n",
              "        text-align: right;\n",
              "    }\n",
              "</style>\n",
              "<table border=\"1\" class=\"dataframe\">\n",
              "  <thead>\n",
              "    <tr style=\"text-align: right;\">\n",
              "      <th></th>\n",
              "      <th>Formatted Date</th>\n",
              "      <th>Summary</th>\n",
              "      <th>Precip Type</th>\n",
              "      <th>Temperature (C)</th>\n",
              "      <th>Apparent Temperature (C)</th>\n",
              "      <th>Humidity</th>\n",
              "      <th>Wind Speed (km/h)</th>\n",
              "      <th>Wind Bearing (degrees)</th>\n",
              "      <th>Visibility (km)</th>\n",
              "      <th>Loud Cover</th>\n",
              "      <th>Pressure (millibars)</th>\n",
              "      <th>Daily Summary</th>\n",
              "      <th>Hour</th>\n",
              "      <th>Month</th>\n",
              "    </tr>\n",
              "  </thead>\n",
              "  <tbody>\n",
              "    <tr>\n",
              "      <th>0</th>\n",
              "      <td>2006-04-01 00:00:00.000 +0200</td>\n",
              "      <td>Partly Cloudy</td>\n",
              "      <td>rain</td>\n",
              "      <td>9.472222</td>\n",
              "      <td>7.388889</td>\n",
              "      <td>0.89</td>\n",
              "      <td>14.1197</td>\n",
              "      <td>251.0</td>\n",
              "      <td>15.8263</td>\n",
              "      <td>0.0</td>\n",
              "      <td>1015.13</td>\n",
              "      <td>Partly cloudy throughout the day.</td>\n",
              "      <td>0.0</td>\n",
              "      <td>4.0</td>\n",
              "    </tr>\n",
              "    <tr>\n",
              "      <th>1</th>\n",
              "      <td>2006-04-01 01:00:00.000 +0200</td>\n",
              "      <td>Partly Cloudy</td>\n",
              "      <td>rain</td>\n",
              "      <td>9.355556</td>\n",
              "      <td>7.227778</td>\n",
              "      <td>0.86</td>\n",
              "      <td>14.2646</td>\n",
              "      <td>259.0</td>\n",
              "      <td>15.8263</td>\n",
              "      <td>0.0</td>\n",
              "      <td>1015.63</td>\n",
              "      <td>Partly cloudy throughout the day.</td>\n",
              "      <td>1.0</td>\n",
              "      <td>4.0</td>\n",
              "    </tr>\n",
              "    <tr>\n",
              "      <th>2</th>\n",
              "      <td>2006-04-01 02:00:00.000 +0200</td>\n",
              "      <td>Mostly Cloudy</td>\n",
              "      <td>rain</td>\n",
              "      <td>9.377778</td>\n",
              "      <td>9.377778</td>\n",
              "      <td>0.89</td>\n",
              "      <td>3.9284</td>\n",
              "      <td>204.0</td>\n",
              "      <td>14.9569</td>\n",
              "      <td>0.0</td>\n",
              "      <td>1015.94</td>\n",
              "      <td>Partly cloudy throughout the day.</td>\n",
              "      <td>2.0</td>\n",
              "      <td>4.0</td>\n",
              "    </tr>\n",
              "    <tr>\n",
              "      <th>3</th>\n",
              "      <td>2006-04-01 03:00:00.000 +0200</td>\n",
              "      <td>Partly Cloudy</td>\n",
              "      <td>rain</td>\n",
              "      <td>8.288889</td>\n",
              "      <td>5.944444</td>\n",
              "      <td>0.83</td>\n",
              "      <td>14.1036</td>\n",
              "      <td>269.0</td>\n",
              "      <td>15.8263</td>\n",
              "      <td>0.0</td>\n",
              "      <td>1016.41</td>\n",
              "      <td>Partly cloudy throughout the day.</td>\n",
              "      <td>3.0</td>\n",
              "      <td>4.0</td>\n",
              "    </tr>\n",
              "    <tr>\n",
              "      <th>4</th>\n",
              "      <td>2006-04-01 04:00:00.000 +0200</td>\n",
              "      <td>Mostly Cloudy</td>\n",
              "      <td>rain</td>\n",
              "      <td>8.755556</td>\n",
              "      <td>6.977778</td>\n",
              "      <td>0.83</td>\n",
              "      <td>11.0446</td>\n",
              "      <td>259.0</td>\n",
              "      <td>15.8263</td>\n",
              "      <td>0.0</td>\n",
              "      <td>1016.51</td>\n",
              "      <td>Partly cloudy throughout the day.</td>\n",
              "      <td>4.0</td>\n",
              "      <td>4.0</td>\n",
              "    </tr>\n",
              "  </tbody>\n",
              "</table>\n",
              "</div>\n",
              "      <button class=\"colab-df-convert\" onclick=\"convertToInteractive('df-73ff5074-36df-46d0-a4da-208cca498fd0')\"\n",
              "              title=\"Convert this dataframe to an interactive table.\"\n",
              "              style=\"display:none;\">\n",
              "        \n",
              "  <svg xmlns=\"http://www.w3.org/2000/svg\" height=\"24px\"viewBox=\"0 0 24 24\"\n",
              "       width=\"24px\">\n",
              "    <path d=\"M0 0h24v24H0V0z\" fill=\"none\"/>\n",
              "    <path d=\"M18.56 5.44l.94 2.06.94-2.06 2.06-.94-2.06-.94-.94-2.06-.94 2.06-2.06.94zm-11 1L8.5 8.5l.94-2.06 2.06-.94-2.06-.94L8.5 2.5l-.94 2.06-2.06.94zm10 10l.94 2.06.94-2.06 2.06-.94-2.06-.94-.94-2.06-.94 2.06-2.06.94z\"/><path d=\"M17.41 7.96l-1.37-1.37c-.4-.4-.92-.59-1.43-.59-.52 0-1.04.2-1.43.59L10.3 9.45l-7.72 7.72c-.78.78-.78 2.05 0 2.83L4 21.41c.39.39.9.59 1.41.59.51 0 1.02-.2 1.41-.59l7.78-7.78 2.81-2.81c.8-.78.8-2.07 0-2.86zM5.41 20L4 18.59l7.72-7.72 1.47 1.35L5.41 20z\"/>\n",
              "  </svg>\n",
              "      </button>\n",
              "      \n",
              "  <style>\n",
              "    .colab-df-container {\n",
              "      display:flex;\n",
              "      flex-wrap:wrap;\n",
              "      gap: 12px;\n",
              "    }\n",
              "\n",
              "    .colab-df-convert {\n",
              "      background-color: #E8F0FE;\n",
              "      border: none;\n",
              "      border-radius: 50%;\n",
              "      cursor: pointer;\n",
              "      display: none;\n",
              "      fill: #1967D2;\n",
              "      height: 32px;\n",
              "      padding: 0 0 0 0;\n",
              "      width: 32px;\n",
              "    }\n",
              "\n",
              "    .colab-df-convert:hover {\n",
              "      background-color: #E2EBFA;\n",
              "      box-shadow: 0px 1px 2px rgba(60, 64, 67, 0.3), 0px 1px 3px 1px rgba(60, 64, 67, 0.15);\n",
              "      fill: #174EA6;\n",
              "    }\n",
              "\n",
              "    [theme=dark] .colab-df-convert {\n",
              "      background-color: #3B4455;\n",
              "      fill: #D2E3FC;\n",
              "    }\n",
              "\n",
              "    [theme=dark] .colab-df-convert:hover {\n",
              "      background-color: #434B5C;\n",
              "      box-shadow: 0px 1px 3px 1px rgba(0, 0, 0, 0.15);\n",
              "      filter: drop-shadow(0px 1px 2px rgba(0, 0, 0, 0.3));\n",
              "      fill: #FFFFFF;\n",
              "    }\n",
              "  </style>\n",
              "\n",
              "      <script>\n",
              "        const buttonEl =\n",
              "          document.querySelector('#df-73ff5074-36df-46d0-a4da-208cca498fd0 button.colab-df-convert');\n",
              "        buttonEl.style.display =\n",
              "          google.colab.kernel.accessAllowed ? 'block' : 'none';\n",
              "\n",
              "        async function convertToInteractive(key) {\n",
              "          const element = document.querySelector('#df-73ff5074-36df-46d0-a4da-208cca498fd0');\n",
              "          const dataTable =\n",
              "            await google.colab.kernel.invokeFunction('convertToInteractive',\n",
              "                                                     [key], {});\n",
              "          if (!dataTable) return;\n",
              "\n",
              "          const docLinkHtml = 'Like what you see? Visit the ' +\n",
              "            '<a target=\"_blank\" href=https://colab.research.google.com/notebooks/data_table.ipynb>data table notebook</a>'\n",
              "            + ' to learn more about interactive tables.';\n",
              "          element.innerHTML = '';\n",
              "          dataTable['output_type'] = 'display_data';\n",
              "          await google.colab.output.renderOutput(dataTable, element);\n",
              "          const docLink = document.createElement('div');\n",
              "          docLink.innerHTML = docLinkHtml;\n",
              "          element.appendChild(docLink);\n",
              "        }\n",
              "      </script>\n",
              "    </div>\n",
              "  </div>\n",
              "  "
            ]
          },
          "metadata": {},
          "execution_count": 50
        }
      ]
    },
    {
      "cell_type": "code",
      "source": [
        "df.describe()"
      ],
      "metadata": {
        "colab": {
          "base_uri": "https://localhost:8080/",
          "height": 379
        },
        "id": "5Y2dp11OpA4q",
        "outputId": "f1100c16-dbe0-42c6-c07d-c140aa6f31d1"
      },
      "execution_count": 51,
      "outputs": [
        {
          "output_type": "execute_result",
          "data": {
            "text/plain": [
              "       Temperature (C)  Apparent Temperature (C)      Humidity  \\\n",
              "count     96453.000000              96453.000000  96453.000000   \n",
              "mean         11.932678                 10.855029      0.734899   \n",
              "std           9.551546                 10.696847      0.195473   \n",
              "min         -21.822222                -27.716667      0.000000   \n",
              "25%           4.688889                  2.311111      0.600000   \n",
              "50%          12.000000                 12.000000      0.780000   \n",
              "75%          18.838889                 18.838889      0.890000   \n",
              "max          39.905556                 39.344444      1.000000   \n",
              "\n",
              "       Wind Speed (km/h)  Wind Bearing (degrees)  Visibility (km)  Loud Cover  \\\n",
              "count       96453.000000            96453.000000     96453.000000     96453.0   \n",
              "mean           10.810640              187.509232        10.347325         0.0   \n",
              "std             6.913571              107.383428         4.192123         0.0   \n",
              "min             0.000000                0.000000         0.000000         0.0   \n",
              "25%             5.828200              116.000000         8.339800         0.0   \n",
              "50%             9.965900              180.000000        10.046400         0.0   \n",
              "75%            14.135800              290.000000        14.812000         0.0   \n",
              "max            63.852600              359.000000        16.100000         0.0   \n",
              "\n",
              "       Pressure (millibars)          Hour         Month  \n",
              "count          96453.000000  96453.000000  96453.000000  \n",
              "mean            1003.235956     11.500327      6.523799  \n",
              "std              116.969906      6.922081      3.448495  \n",
              "min                0.000000      0.000000      1.000000  \n",
              "25%             1011.900000      6.000000      4.000000  \n",
              "50%             1016.450000     12.000000      7.000000  \n",
              "75%             1021.090000     18.000000     10.000000  \n",
              "max             1046.380000     23.000000     12.000000  "
            ],
            "text/html": [
              "\n",
              "  <div id=\"df-30c88967-e638-40b1-a10a-16e8f7bb8a41\">\n",
              "    <div class=\"colab-df-container\">\n",
              "      <div>\n",
              "<style scoped>\n",
              "    .dataframe tbody tr th:only-of-type {\n",
              "        vertical-align: middle;\n",
              "    }\n",
              "\n",
              "    .dataframe tbody tr th {\n",
              "        vertical-align: top;\n",
              "    }\n",
              "\n",
              "    .dataframe thead th {\n",
              "        text-align: right;\n",
              "    }\n",
              "</style>\n",
              "<table border=\"1\" class=\"dataframe\">\n",
              "  <thead>\n",
              "    <tr style=\"text-align: right;\">\n",
              "      <th></th>\n",
              "      <th>Temperature (C)</th>\n",
              "      <th>Apparent Temperature (C)</th>\n",
              "      <th>Humidity</th>\n",
              "      <th>Wind Speed (km/h)</th>\n",
              "      <th>Wind Bearing (degrees)</th>\n",
              "      <th>Visibility (km)</th>\n",
              "      <th>Loud Cover</th>\n",
              "      <th>Pressure (millibars)</th>\n",
              "      <th>Hour</th>\n",
              "      <th>Month</th>\n",
              "    </tr>\n",
              "  </thead>\n",
              "  <tbody>\n",
              "    <tr>\n",
              "      <th>count</th>\n",
              "      <td>96453.000000</td>\n",
              "      <td>96453.000000</td>\n",
              "      <td>96453.000000</td>\n",
              "      <td>96453.000000</td>\n",
              "      <td>96453.000000</td>\n",
              "      <td>96453.000000</td>\n",
              "      <td>96453.0</td>\n",
              "      <td>96453.000000</td>\n",
              "      <td>96453.000000</td>\n",
              "      <td>96453.000000</td>\n",
              "    </tr>\n",
              "    <tr>\n",
              "      <th>mean</th>\n",
              "      <td>11.932678</td>\n",
              "      <td>10.855029</td>\n",
              "      <td>0.734899</td>\n",
              "      <td>10.810640</td>\n",
              "      <td>187.509232</td>\n",
              "      <td>10.347325</td>\n",
              "      <td>0.0</td>\n",
              "      <td>1003.235956</td>\n",
              "      <td>11.500327</td>\n",
              "      <td>6.523799</td>\n",
              "    </tr>\n",
              "    <tr>\n",
              "      <th>std</th>\n",
              "      <td>9.551546</td>\n",
              "      <td>10.696847</td>\n",
              "      <td>0.195473</td>\n",
              "      <td>6.913571</td>\n",
              "      <td>107.383428</td>\n",
              "      <td>4.192123</td>\n",
              "      <td>0.0</td>\n",
              "      <td>116.969906</td>\n",
              "      <td>6.922081</td>\n",
              "      <td>3.448495</td>\n",
              "    </tr>\n",
              "    <tr>\n",
              "      <th>min</th>\n",
              "      <td>-21.822222</td>\n",
              "      <td>-27.716667</td>\n",
              "      <td>0.000000</td>\n",
              "      <td>0.000000</td>\n",
              "      <td>0.000000</td>\n",
              "      <td>0.000000</td>\n",
              "      <td>0.0</td>\n",
              "      <td>0.000000</td>\n",
              "      <td>0.000000</td>\n",
              "      <td>1.000000</td>\n",
              "    </tr>\n",
              "    <tr>\n",
              "      <th>25%</th>\n",
              "      <td>4.688889</td>\n",
              "      <td>2.311111</td>\n",
              "      <td>0.600000</td>\n",
              "      <td>5.828200</td>\n",
              "      <td>116.000000</td>\n",
              "      <td>8.339800</td>\n",
              "      <td>0.0</td>\n",
              "      <td>1011.900000</td>\n",
              "      <td>6.000000</td>\n",
              "      <td>4.000000</td>\n",
              "    </tr>\n",
              "    <tr>\n",
              "      <th>50%</th>\n",
              "      <td>12.000000</td>\n",
              "      <td>12.000000</td>\n",
              "      <td>0.780000</td>\n",
              "      <td>9.965900</td>\n",
              "      <td>180.000000</td>\n",
              "      <td>10.046400</td>\n",
              "      <td>0.0</td>\n",
              "      <td>1016.450000</td>\n",
              "      <td>12.000000</td>\n",
              "      <td>7.000000</td>\n",
              "    </tr>\n",
              "    <tr>\n",
              "      <th>75%</th>\n",
              "      <td>18.838889</td>\n",
              "      <td>18.838889</td>\n",
              "      <td>0.890000</td>\n",
              "      <td>14.135800</td>\n",
              "      <td>290.000000</td>\n",
              "      <td>14.812000</td>\n",
              "      <td>0.0</td>\n",
              "      <td>1021.090000</td>\n",
              "      <td>18.000000</td>\n",
              "      <td>10.000000</td>\n",
              "    </tr>\n",
              "    <tr>\n",
              "      <th>max</th>\n",
              "      <td>39.905556</td>\n",
              "      <td>39.344444</td>\n",
              "      <td>1.000000</td>\n",
              "      <td>63.852600</td>\n",
              "      <td>359.000000</td>\n",
              "      <td>16.100000</td>\n",
              "      <td>0.0</td>\n",
              "      <td>1046.380000</td>\n",
              "      <td>23.000000</td>\n",
              "      <td>12.000000</td>\n",
              "    </tr>\n",
              "  </tbody>\n",
              "</table>\n",
              "</div>\n",
              "      <button class=\"colab-df-convert\" onclick=\"convertToInteractive('df-30c88967-e638-40b1-a10a-16e8f7bb8a41')\"\n",
              "              title=\"Convert this dataframe to an interactive table.\"\n",
              "              style=\"display:none;\">\n",
              "        \n",
              "  <svg xmlns=\"http://www.w3.org/2000/svg\" height=\"24px\"viewBox=\"0 0 24 24\"\n",
              "       width=\"24px\">\n",
              "    <path d=\"M0 0h24v24H0V0z\" fill=\"none\"/>\n",
              "    <path d=\"M18.56 5.44l.94 2.06.94-2.06 2.06-.94-2.06-.94-.94-2.06-.94 2.06-2.06.94zm-11 1L8.5 8.5l.94-2.06 2.06-.94-2.06-.94L8.5 2.5l-.94 2.06-2.06.94zm10 10l.94 2.06.94-2.06 2.06-.94-2.06-.94-.94-2.06-.94 2.06-2.06.94z\"/><path d=\"M17.41 7.96l-1.37-1.37c-.4-.4-.92-.59-1.43-.59-.52 0-1.04.2-1.43.59L10.3 9.45l-7.72 7.72c-.78.78-.78 2.05 0 2.83L4 21.41c.39.39.9.59 1.41.59.51 0 1.02-.2 1.41-.59l7.78-7.78 2.81-2.81c.8-.78.8-2.07 0-2.86zM5.41 20L4 18.59l7.72-7.72 1.47 1.35L5.41 20z\"/>\n",
              "  </svg>\n",
              "      </button>\n",
              "      \n",
              "  <style>\n",
              "    .colab-df-container {\n",
              "      display:flex;\n",
              "      flex-wrap:wrap;\n",
              "      gap: 12px;\n",
              "    }\n",
              "\n",
              "    .colab-df-convert {\n",
              "      background-color: #E8F0FE;\n",
              "      border: none;\n",
              "      border-radius: 50%;\n",
              "      cursor: pointer;\n",
              "      display: none;\n",
              "      fill: #1967D2;\n",
              "      height: 32px;\n",
              "      padding: 0 0 0 0;\n",
              "      width: 32px;\n",
              "    }\n",
              "\n",
              "    .colab-df-convert:hover {\n",
              "      background-color: #E2EBFA;\n",
              "      box-shadow: 0px 1px 2px rgba(60, 64, 67, 0.3), 0px 1px 3px 1px rgba(60, 64, 67, 0.15);\n",
              "      fill: #174EA6;\n",
              "    }\n",
              "\n",
              "    [theme=dark] .colab-df-convert {\n",
              "      background-color: #3B4455;\n",
              "      fill: #D2E3FC;\n",
              "    }\n",
              "\n",
              "    [theme=dark] .colab-df-convert:hover {\n",
              "      background-color: #434B5C;\n",
              "      box-shadow: 0px 1px 3px 1px rgba(0, 0, 0, 0.15);\n",
              "      filter: drop-shadow(0px 1px 2px rgba(0, 0, 0, 0.3));\n",
              "      fill: #FFFFFF;\n",
              "    }\n",
              "  </style>\n",
              "\n",
              "      <script>\n",
              "        const buttonEl =\n",
              "          document.querySelector('#df-30c88967-e638-40b1-a10a-16e8f7bb8a41 button.colab-df-convert');\n",
              "        buttonEl.style.display =\n",
              "          google.colab.kernel.accessAllowed ? 'block' : 'none';\n",
              "\n",
              "        async function convertToInteractive(key) {\n",
              "          const element = document.querySelector('#df-30c88967-e638-40b1-a10a-16e8f7bb8a41');\n",
              "          const dataTable =\n",
              "            await google.colab.kernel.invokeFunction('convertToInteractive',\n",
              "                                                     [key], {});\n",
              "          if (!dataTable) return;\n",
              "\n",
              "          const docLinkHtml = 'Like what you see? Visit the ' +\n",
              "            '<a target=\"_blank\" href=https://colab.research.google.com/notebooks/data_table.ipynb>data table notebook</a>'\n",
              "            + ' to learn more about interactive tables.';\n",
              "          element.innerHTML = '';\n",
              "          dataTable['output_type'] = 'display_data';\n",
              "          await google.colab.output.renderOutput(dataTable, element);\n",
              "          const docLink = document.createElement('div');\n",
              "          docLink.innerHTML = docLinkHtml;\n",
              "          element.appendChild(docLink);\n",
              "        }\n",
              "      </script>\n",
              "    </div>\n",
              "  </div>\n",
              "  "
            ]
          },
          "metadata": {},
          "execution_count": 51
        }
      ]
    },
    {
      "cell_type": "markdown",
      "source": [
        "In order to select which data we will use to predict, look at the correlation is important"
      ],
      "metadata": {
        "id": "EduHj76JqgNo"
      }
    },
    {
      "cell_type": "code",
      "source": [
        "df = df.drop(columns='Loud Cover')\n",
        "corr = df.corr()\n",
        "corr.style.background_gradient(cmap='coolwarm')"
      ],
      "metadata": {
        "colab": {
          "base_uri": "https://localhost:8080/",
          "height": 419
        },
        "id": "PRiSKHLrpdFK",
        "outputId": "bc19fbde-91f6-4f91-ed3f-fdf0e337eaa7"
      },
      "execution_count": 52,
      "outputs": [
        {
          "output_type": "execute_result",
          "data": {
            "text/plain": [
              "<pandas.io.formats.style.Styler at 0x7f2c16a12850>"
            ],
            "text/html": [
              "<style type=\"text/css\">\n",
              "#T_37cec_row0_col0, #T_37cec_row1_col1, #T_37cec_row2_col2, #T_37cec_row3_col3, #T_37cec_row4_col4, #T_37cec_row5_col5, #T_37cec_row6_col6, #T_37cec_row7_col7, #T_37cec_row8_col8 {\n",
              "  background-color: #b40426;\n",
              "  color: #f1f1f1;\n",
              "}\n",
              "#T_37cec_row0_col1, #T_37cec_row1_col0 {\n",
              "  background-color: #b50927;\n",
              "  color: #f1f1f1;\n",
              "}\n",
              "#T_37cec_row0_col2, #T_37cec_row2_col0, #T_37cec_row2_col1, #T_37cec_row2_col3, #T_37cec_row2_col5, #T_37cec_row2_col7, #T_37cec_row3_col6, #T_37cec_row3_col8, #T_37cec_row8_col4 {\n",
              "  background-color: #3b4cc0;\n",
              "  color: #f1f1f1;\n",
              "}\n",
              "#T_37cec_row0_col3 {\n",
              "  background-color: #779af7;\n",
              "  color: #f1f1f1;\n",
              "}\n",
              "#T_37cec_row0_col4, #T_37cec_row1_col4, #T_37cec_row7_col6 {\n",
              "  background-color: #4961d2;\n",
              "  color: #f1f1f1;\n",
              "}\n",
              "#T_37cec_row0_col5 {\n",
              "  background-color: #ead4c8;\n",
              "  color: #000000;\n",
              "}\n",
              "#T_37cec_row0_col6 {\n",
              "  background-color: #465ecf;\n",
              "  color: #f1f1f1;\n",
              "}\n",
              "#T_37cec_row0_col7 {\n",
              "  background-color: #b1cbfc;\n",
              "  color: #000000;\n",
              "}\n",
              "#T_37cec_row0_col8, #T_37cec_row5_col7 {\n",
              "  background-color: #84a7fc;\n",
              "  color: #f1f1f1;\n",
              "}\n",
              "#T_37cec_row1_col2, #T_37cec_row2_col4 {\n",
              "  background-color: #3f53c6;\n",
              "  color: #f1f1f1;\n",
              "}\n",
              "#T_37cec_row1_col3 {\n",
              "  background-color: #6687ed;\n",
              "  color: #f1f1f1;\n",
              "}\n",
              "#T_37cec_row1_col5 {\n",
              "  background-color: #e9d5cb;\n",
              "  color: #000000;\n",
              "}\n",
              "#T_37cec_row1_col6 {\n",
              "  background-color: #485fd1;\n",
              "  color: #f1f1f1;\n",
              "}\n",
              "#T_37cec_row1_col7 {\n",
              "  background-color: #aec9fc;\n",
              "  color: #000000;\n",
              "}\n",
              "#T_37cec_row1_col8 {\n",
              "  background-color: #86a9fc;\n",
              "  color: #f1f1f1;\n",
              "}\n",
              "#T_37cec_row2_col6 {\n",
              "  background-color: #4a63d3;\n",
              "  color: #f1f1f1;\n",
              "}\n",
              "#T_37cec_row2_col8, #T_37cec_row6_col3 {\n",
              "  background-color: #6788ee;\n",
              "  color: #f1f1f1;\n",
              "}\n",
              "#T_37cec_row3_col0, #T_37cec_row4_col1, #T_37cec_row6_col2 {\n",
              "  background-color: #bed2f6;\n",
              "  color: #000000;\n",
              "}\n",
              "#T_37cec_row3_col1, #T_37cec_row3_col5 {\n",
              "  background-color: #adc9fd;\n",
              "  color: #000000;\n",
              "}\n",
              "#T_37cec_row3_col2 {\n",
              "  background-color: #8caffe;\n",
              "  color: #000000;\n",
              "}\n",
              "#T_37cec_row3_col4 {\n",
              "  background-color: #5f7fe8;\n",
              "  color: #f1f1f1;\n",
              "}\n",
              "#T_37cec_row3_col7 {\n",
              "  background-color: #96b7ff;\n",
              "  color: #000000;\n",
              "}\n",
              "#T_37cec_row4_col0 {\n",
              "  background-color: #c1d4f4;\n",
              "  color: #000000;\n",
              "}\n",
              "#T_37cec_row4_col2 {\n",
              "  background-color: #bcd2f7;\n",
              "  color: #000000;\n",
              "}\n",
              "#T_37cec_row4_col3, #T_37cec_row5_col3 {\n",
              "  background-color: #93b5fe;\n",
              "  color: #000000;\n",
              "}\n",
              "#T_37cec_row4_col5 {\n",
              "  background-color: #9fbfff;\n",
              "  color: #000000;\n",
              "}\n",
              "#T_37cec_row4_col6 {\n",
              "  background-color: #455cce;\n",
              "  color: #f1f1f1;\n",
              "}\n",
              "#T_37cec_row4_col7, #T_37cec_row6_col7, #T_37cec_row8_col7 {\n",
              "  background-color: #82a6fb;\n",
              "  color: #f1f1f1;\n",
              "}\n",
              "#T_37cec_row4_col8, #T_37cec_row6_col8 {\n",
              "  background-color: #506bda;\n",
              "  color: #f1f1f1;\n",
              "}\n",
              "#T_37cec_row5_col0 {\n",
              "  background-color: #f5c4ac;\n",
              "  color: #000000;\n",
              "}\n",
              "#T_37cec_row5_col1 {\n",
              "  background-color: #f3c7b1;\n",
              "  color: #000000;\n",
              "}\n",
              "#T_37cec_row5_col2 {\n",
              "  background-color: #6e90f2;\n",
              "  color: #f1f1f1;\n",
              "}\n",
              "#T_37cec_row5_col4 {\n",
              "  background-color: #4e68d8;\n",
              "  color: #f1f1f1;\n",
              "}\n",
              "#T_37cec_row5_col6, #T_37cec_row8_col3 {\n",
              "  background-color: #5a78e4;\n",
              "  color: #f1f1f1;\n",
              "}\n",
              "#T_37cec_row5_col8 {\n",
              "  background-color: #4257c9;\n",
              "  color: #f1f1f1;\n",
              "}\n",
              "#T_37cec_row6_col0 {\n",
              "  background-color: #bbd1f8;\n",
              "  color: #000000;\n",
              "}\n",
              "#T_37cec_row6_col1 {\n",
              "  background-color: #b9d0f9;\n",
              "  color: #000000;\n",
              "}\n",
              "#T_37cec_row6_col4 {\n",
              "  background-color: #3c4ec2;\n",
              "  color: #f1f1f1;\n",
              "}\n",
              "#T_37cec_row6_col5 {\n",
              "  background-color: #a3c2fe;\n",
              "  color: #000000;\n",
              "}\n",
              "#T_37cec_row7_col0 {\n",
              "  background-color: #dadce0;\n",
              "  color: #000000;\n",
              "}\n",
              "#T_37cec_row7_col1, #T_37cec_row8_col1 {\n",
              "  background-color: #d6dce4;\n",
              "  color: #000000;\n",
              "}\n",
              "#T_37cec_row7_col2 {\n",
              "  background-color: #80a3fa;\n",
              "  color: #f1f1f1;\n",
              "}\n",
              "#T_37cec_row7_col3 {\n",
              "  background-color: #89acfd;\n",
              "  color: #000000;\n",
              "}\n",
              "#T_37cec_row7_col4 {\n",
              "  background-color: #3e51c5;\n",
              "  color: #f1f1f1;\n",
              "}\n",
              "#T_37cec_row7_col5 {\n",
              "  background-color: #94b6ff;\n",
              "  color: #000000;\n",
              "}\n",
              "#T_37cec_row7_col8 {\n",
              "  background-color: #5572df;\n",
              "  color: #f1f1f1;\n",
              "}\n",
              "#T_37cec_row8_col0 {\n",
              "  background-color: #d7dce3;\n",
              "  color: #000000;\n",
              "}\n",
              "#T_37cec_row8_col2 {\n",
              "  background-color: #c7d7f0;\n",
              "  color: #000000;\n",
              "}\n",
              "#T_37cec_row8_col5 {\n",
              "  background-color: #81a4fb;\n",
              "  color: #f1f1f1;\n",
              "}\n",
              "#T_37cec_row8_col6 {\n",
              "  background-color: #4358cb;\n",
              "  color: #f1f1f1;\n",
              "}\n",
              "</style>\n",
              "<table id=\"T_37cec_\" class=\"dataframe\">\n",
              "  <thead>\n",
              "    <tr>\n",
              "      <th class=\"blank level0\" >&nbsp;</th>\n",
              "      <th class=\"col_heading level0 col0\" >Temperature (C)</th>\n",
              "      <th class=\"col_heading level0 col1\" >Apparent Temperature (C)</th>\n",
              "      <th class=\"col_heading level0 col2\" >Humidity</th>\n",
              "      <th class=\"col_heading level0 col3\" >Wind Speed (km/h)</th>\n",
              "      <th class=\"col_heading level0 col4\" >Wind Bearing (degrees)</th>\n",
              "      <th class=\"col_heading level0 col5\" >Visibility (km)</th>\n",
              "      <th class=\"col_heading level0 col6\" >Pressure (millibars)</th>\n",
              "      <th class=\"col_heading level0 col7\" >Hour</th>\n",
              "      <th class=\"col_heading level0 col8\" >Month</th>\n",
              "    </tr>\n",
              "  </thead>\n",
              "  <tbody>\n",
              "    <tr>\n",
              "      <th id=\"T_37cec_level0_row0\" class=\"row_heading level0 row0\" >Temperature (C)</th>\n",
              "      <td id=\"T_37cec_row0_col0\" class=\"data row0 col0\" >1.000000</td>\n",
              "      <td id=\"T_37cec_row0_col1\" class=\"data row0 col1\" >0.992629</td>\n",
              "      <td id=\"T_37cec_row0_col2\" class=\"data row0 col2\" >-0.632255</td>\n",
              "      <td id=\"T_37cec_row0_col3\" class=\"data row0 col3\" >0.008957</td>\n",
              "      <td id=\"T_37cec_row0_col4\" class=\"data row0 col4\" >0.029988</td>\n",
              "      <td id=\"T_37cec_row0_col5\" class=\"data row0 col5\" >0.392847</td>\n",
              "      <td id=\"T_37cec_row0_col6\" class=\"data row0 col6\" >-0.005447</td>\n",
              "      <td id=\"T_37cec_row0_col7\" class=\"data row0 col7\" >0.170134</td>\n",
              "      <td id=\"T_37cec_row0_col8\" class=\"data row0 col8\" >0.149110</td>\n",
              "    </tr>\n",
              "    <tr>\n",
              "      <th id=\"T_37cec_level0_row1\" class=\"row_heading level0 row1\" >Apparent Temperature (C)</th>\n",
              "      <td id=\"T_37cec_row1_col0\" class=\"data row1 col0\" >0.992629</td>\n",
              "      <td id=\"T_37cec_row1_col1\" class=\"data row1 col1\" >1.000000</td>\n",
              "      <td id=\"T_37cec_row1_col2\" class=\"data row1 col2\" >-0.602571</td>\n",
              "      <td id=\"T_37cec_row1_col3\" class=\"data row1 col3\" >-0.056650</td>\n",
              "      <td id=\"T_37cec_row1_col4\" class=\"data row1 col4\" >0.029031</td>\n",
              "      <td id=\"T_37cec_row1_col5\" class=\"data row1 col5\" >0.381718</td>\n",
              "      <td id=\"T_37cec_row1_col6\" class=\"data row1 col6\" >-0.000219</td>\n",
              "      <td id=\"T_37cec_row1_col7\" class=\"data row1 col7\" >0.160574</td>\n",
              "      <td id=\"T_37cec_row1_col8\" class=\"data row1 col8\" >0.158522</td>\n",
              "    </tr>\n",
              "    <tr>\n",
              "      <th id=\"T_37cec_level0_row2\" class=\"row_heading level0 row2\" >Humidity</th>\n",
              "      <td id=\"T_37cec_row2_col0\" class=\"data row2 col0\" >-0.632255</td>\n",
              "      <td id=\"T_37cec_row2_col1\" class=\"data row2 col1\" >-0.602571</td>\n",
              "      <td id=\"T_37cec_row2_col2\" class=\"data row2 col2\" >1.000000</td>\n",
              "      <td id=\"T_37cec_row2_col3\" class=\"data row2 col3\" >-0.224951</td>\n",
              "      <td id=\"T_37cec_row2_col4\" class=\"data row2 col4\" >0.000735</td>\n",
              "      <td id=\"T_37cec_row2_col5\" class=\"data row2 col5\" >-0.369173</td>\n",
              "      <td id=\"T_37cec_row2_col6\" class=\"data row2 col6\" >0.005454</td>\n",
              "      <td id=\"T_37cec_row2_col7\" class=\"data row2 col7\" >-0.285991</td>\n",
              "      <td id=\"T_37cec_row2_col8\" class=\"data row2 col8\" >0.056429</td>\n",
              "    </tr>\n",
              "    <tr>\n",
              "      <th id=\"T_37cec_level0_row3\" class=\"row_heading level0 row3\" >Wind Speed (km/h)</th>\n",
              "      <td id=\"T_37cec_row3_col0\" class=\"data row3 col0\" >0.008957</td>\n",
              "      <td id=\"T_37cec_row3_col1\" class=\"data row3 col1\" >-0.056650</td>\n",
              "      <td id=\"T_37cec_row3_col2\" class=\"data row3 col2\" >-0.224951</td>\n",
              "      <td id=\"T_37cec_row3_col3\" class=\"data row3 col3\" >1.000000</td>\n",
              "      <td id=\"T_37cec_row3_col4\" class=\"data row3 col4\" >0.103822</td>\n",
              "      <td id=\"T_37cec_row3_col5\" class=\"data row3 col5\" >0.100749</td>\n",
              "      <td id=\"T_37cec_row3_col6\" class=\"data row3 col6\" >-0.049263</td>\n",
              "      <td id=\"T_37cec_row3_col7\" class=\"data row3 col7\" >0.067615</td>\n",
              "      <td id=\"T_37cec_row3_col8\" class=\"data row3 col8\" >-0.098950</td>\n",
              "    </tr>\n",
              "    <tr>\n",
              "      <th id=\"T_37cec_level0_row4\" class=\"row_heading level0 row4\" >Wind Bearing (degrees)</th>\n",
              "      <td id=\"T_37cec_row4_col0\" class=\"data row4 col0\" >0.029988</td>\n",
              "      <td id=\"T_37cec_row4_col1\" class=\"data row4 col1\" >0.029031</td>\n",
              "      <td id=\"T_37cec_row4_col2\" class=\"data row4 col2\" >0.000735</td>\n",
              "      <td id=\"T_37cec_row4_col3\" class=\"data row4 col3\" >0.103822</td>\n",
              "      <td id=\"T_37cec_row4_col4\" class=\"data row4 col4\" >1.000000</td>\n",
              "      <td id=\"T_37cec_row4_col5\" class=\"data row4 col5\" >0.047594</td>\n",
              "      <td id=\"T_37cec_row4_col6\" class=\"data row4 col6\" >-0.011651</td>\n",
              "      <td id=\"T_37cec_row4_col7\" class=\"data row4 col7\" >-0.003983</td>\n",
              "      <td id=\"T_37cec_row4_col8\" class=\"data row4 col8\" >-0.019092</td>\n",
              "    </tr>\n",
              "    <tr>\n",
              "      <th id=\"T_37cec_level0_row5\" class=\"row_heading level0 row5\" >Visibility (km)</th>\n",
              "      <td id=\"T_37cec_row5_col0\" class=\"data row5 col0\" >0.392847</td>\n",
              "      <td id=\"T_37cec_row5_col1\" class=\"data row5 col1\" >0.381718</td>\n",
              "      <td id=\"T_37cec_row5_col2\" class=\"data row5 col2\" >-0.369173</td>\n",
              "      <td id=\"T_37cec_row5_col3\" class=\"data row5 col3\" >0.100749</td>\n",
              "      <td id=\"T_37cec_row5_col4\" class=\"data row5 col4\" >0.047594</td>\n",
              "      <td id=\"T_37cec_row5_col5\" class=\"data row5 col5\" >1.000000</td>\n",
              "      <td id=\"T_37cec_row5_col6\" class=\"data row5 col6\" >0.059818</td>\n",
              "      <td id=\"T_37cec_row5_col7\" class=\"data row5 col7\" >0.004951</td>\n",
              "      <td id=\"T_37cec_row5_col8\" class=\"data row5 col8\" >-0.071159</td>\n",
              "    </tr>\n",
              "    <tr>\n",
              "      <th id=\"T_37cec_level0_row6\" class=\"row_heading level0 row6\" >Pressure (millibars)</th>\n",
              "      <td id=\"T_37cec_row6_col0\" class=\"data row6 col0\" >-0.005447</td>\n",
              "      <td id=\"T_37cec_row6_col1\" class=\"data row6 col1\" >-0.000219</td>\n",
              "      <td id=\"T_37cec_row6_col2\" class=\"data row6 col2\" >0.005454</td>\n",
              "      <td id=\"T_37cec_row6_col3\" class=\"data row6 col3\" >-0.049263</td>\n",
              "      <td id=\"T_37cec_row6_col4\" class=\"data row6 col4\" >-0.011651</td>\n",
              "      <td id=\"T_37cec_row6_col5\" class=\"data row6 col5\" >0.059818</td>\n",
              "      <td id=\"T_37cec_row6_col6\" class=\"data row6 col6\" >1.000000</td>\n",
              "      <td id=\"T_37cec_row6_col7\" class=\"data row6 col7\" >0.000335</td>\n",
              "      <td id=\"T_37cec_row6_col8\" class=\"data row6 col8\" >-0.019118</td>\n",
              "    </tr>\n",
              "    <tr>\n",
              "      <th id=\"T_37cec_level0_row7\" class=\"row_heading level0 row7\" >Hour</th>\n",
              "      <td id=\"T_37cec_row7_col0\" class=\"data row7 col0\" >0.170134</td>\n",
              "      <td id=\"T_37cec_row7_col1\" class=\"data row7 col1\" >0.160574</td>\n",
              "      <td id=\"T_37cec_row7_col2\" class=\"data row7 col2\" >-0.285991</td>\n",
              "      <td id=\"T_37cec_row7_col3\" class=\"data row7 col3\" >0.067615</td>\n",
              "      <td id=\"T_37cec_row7_col4\" class=\"data row7 col4\" >-0.003983</td>\n",
              "      <td id=\"T_37cec_row7_col5\" class=\"data row7 col5\" >0.004951</td>\n",
              "      <td id=\"T_37cec_row7_col6\" class=\"data row7 col6\" >0.000335</td>\n",
              "      <td id=\"T_37cec_row7_col7\" class=\"data row7 col7\" >1.000000</td>\n",
              "      <td id=\"T_37cec_row7_col8\" class=\"data row7 col8\" >-0.000311</td>\n",
              "    </tr>\n",
              "    <tr>\n",
              "      <th id=\"T_37cec_level0_row8\" class=\"row_heading level0 row8\" >Month</th>\n",
              "      <td id=\"T_37cec_row8_col0\" class=\"data row8 col0\" >0.149110</td>\n",
              "      <td id=\"T_37cec_row8_col1\" class=\"data row8 col1\" >0.158522</td>\n",
              "      <td id=\"T_37cec_row8_col2\" class=\"data row8 col2\" >0.056429</td>\n",
              "      <td id=\"T_37cec_row8_col3\" class=\"data row8 col3\" >-0.098950</td>\n",
              "      <td id=\"T_37cec_row8_col4\" class=\"data row8 col4\" >-0.019092</td>\n",
              "      <td id=\"T_37cec_row8_col5\" class=\"data row8 col5\" >-0.071159</td>\n",
              "      <td id=\"T_37cec_row8_col6\" class=\"data row8 col6\" >-0.019118</td>\n",
              "      <td id=\"T_37cec_row8_col7\" class=\"data row8 col7\" >-0.000311</td>\n",
              "      <td id=\"T_37cec_row8_col8\" class=\"data row8 col8\" >1.000000</td>\n",
              "    </tr>\n",
              "  </tbody>\n",
              "</table>\n"
            ]
          },
          "metadata": {},
          "execution_count": 52
        }
      ]
    },
    {
      "cell_type": "markdown",
      "source": [
        "The two correlation that looks siginficant to predict the temperature and apparent temperature are Humidity and Visibility."
      ],
      "metadata": {
        "id": "WuEzEyGsrlvB"
      }
    },
    {
      "cell_type": "code",
      "source": [
        "dfsample = df.sample(500)\n",
        "plt.scatter(dfsample['Humidity'], dfsample['Temperature (C)'])\n",
        "plt.title(' Temperature  x Humidity')"
      ],
      "metadata": {
        "colab": {
          "base_uri": "https://localhost:8080/",
          "height": 298
        },
        "id": "SZJM_JmAxIpx",
        "outputId": "773b46f6-83e4-43ad-e565-de3a6981c917"
      },
      "execution_count": 53,
      "outputs": [
        {
          "output_type": "execute_result",
          "data": {
            "text/plain": [
              "Text(0.5, 1.0, ' Temperature  x Humidity')"
            ]
          },
          "metadata": {},
          "execution_count": 53
        },
        {
          "output_type": "display_data",
          "data": {
            "text/plain": [
              "<Figure size 432x288 with 1 Axes>"
            ],
            "image/png": "[encoded data removed]"
          },
          "metadata": {
            "needs_background": "light"
          }
        }
      ]
    },
    {
      "cell_type": "code",
      "source": [
        "plt.scatter(dfsample['Visibility (km)'], dfsample['Temperature (C)'])\n",
        "plt.title(' Temperature  x Visibility')"
      ],
      "metadata": {
        "colab": {
          "base_uri": "https://localhost:8080/",
          "height": 298
        },
        "id": "UwUK8ksyz-qa",
        "outputId": "5e384ac4-a1c4-4174-da6f-fdb29c31f752"
      },
      "execution_count": 54,
      "outputs": [
        {
          "output_type": "execute_result",
          "data": {
            "text/plain": [
              "Text(0.5, 1.0, ' Temperature  x Visibility')"
            ]
          },
          "metadata": {},
          "execution_count": 54
        },
        {
          "output_type": "display_data",
          "data": {
            "text/plain": [
              "<Figure size 432x288 with 1 Axes>"
            ],
            "image/png": "[encoded data removed]"
          },
          "metadata": {
            "needs_background": "light"
          }
        }
      ]
    },
    {
      "cell_type": "markdown",
      "source": [
        "# Splitting and training the simple linear regression"
      ],
      "metadata": {
        "id": "gj_HAaxjw8LU"
      }
    },
    {
      "cell_type": "code",
      "source": [
        "X = df['Humidity']\n",
        "y = df['Temperature (C)']\n",
        "X_train, X_test, y_train, y_test = train_test_split(X, y, test_size=0.33, random_state=0)"
      ],
      "metadata": {
        "id": "yN-yWzVqqWBV"
      },
      "execution_count": 55,
      "outputs": []
    },
    {
      "cell_type": "code",
      "source": [
        "LR = LinearRegression().fit(X_train.values.reshape(-1, 1), y_train.values.reshape(-1, 1))\n",
        "predict = LR.predict(X_test.values.reshape(-1, 1))"
      ],
      "metadata": {
        "id": "VJe8AawzLP9b"
      },
      "execution_count": 56,
      "outputs": []
    },
    {
      "cell_type": "code",
      "source": [
        "plt.scatter(X_test, y_test, alpha=0.5)\n",
        "plt.plot(X_test, predict, color='g')"
      ],
      "metadata": {
        "colab": {
          "base_uri": "https://localhost:8080/",
          "height": 282
        },
        "id": "yhpqP_ckM4OK",
        "outputId": "08f21d9d-93ff-48ca-d5e4-f227bf176d19"
      },
      "execution_count": 57,
      "outputs": [
        {
          "output_type": "execute_result",
          "data": {
            "text/plain": [
              "[<matplotlib.lines.Line2D at 0x7f2bf438f550>]"
            ]
          },
          "metadata": {},
          "execution_count": 57
        },
        {
          "output_type": "display_data",
          "data": {
            "text/plain": [
              "<Figure size 432x288 with 1 Axes>"
            ],
            "image/png": "[encoded data removed]"
          },
          "metadata": {
            "needs_background": "light"
          }
        }
      ]
    },
    {
      "cell_type": "code",
      "source": [
        "LR.score(X_test.values.reshape(-1, 1), y_test.values)"
      ],
      "metadata": {
        "colab": {
          "base_uri": "https://localhost:8080/"
        },
        "id": "nJ5OTvMPN1pr",
        "outputId": "e38c8825-7958-4909-ce52-f407f5a43c03"
      },
      "execution_count": 58,
      "outputs": [
        {
          "output_type": "execute_result",
          "data": {
            "text/plain": [
              "0.40040472046870645"
            ]
          },
          "metadata": {},
          "execution_count": 58
        }
      ]
    },
    {
      "cell_type": "markdown",
      "source": [
        "Lets try including the visibility"
      ],
      "metadata": {
        "id": "GwKP7058XJoY"
      }
    },
    {
      "cell_type": "code",
      "source": [
        "X2 = df[['Visibility (km)', 'Humidity']]"
      ],
      "metadata": {
        "id": "HS7yBmN2XAQM"
      },
      "execution_count": 64,
      "outputs": []
    },
    {
      "cell_type": "code",
      "source": [
        "X2_train, X2_test, y_train, y_test = train_test_split(X, y, test_size=0.33, random_state=1)"
      ],
      "metadata": {
        "id": "qpMMvJ1hXxib"
      },
      "execution_count": 66,
      "outputs": []
    },
    {
      "cell_type": "code",
      "source": [
        "LR = LinearRegression().fit(X2_train.values.reshape(-1, 1), y_train.values.reshape(-1, 1))\n",
        "predict2 = LR.predict(X2_test.values.reshape(-1, 1))"
      ],
      "metadata": {
        "id": "HPSq_cKvZ9N9"
      },
      "execution_count": 72,
      "outputs": []
    },
    {
      "cell_type": "code",
      "source": [
        "plt.scatter(X2_test, y_test, alpha=0.5)\n",
        "plt.plot(X2_test, predict2, color='g')"
      ],
      "metadata": {
        "colab": {
          "base_uri": "https://localhost:8080/",
          "height": 282
        },
        "id": "WqlQknBybkP8",
        "outputId": "d5205a3f-e12e-45f6-c9f7-dd9ff6c081d8"
      },
      "execution_count": 73,
      "outputs": [
        {
          "output_type": "execute_result",
          "data": {
            "text/plain": [
              "[<matplotlib.lines.Line2D at 0x7f2bf3fdca50>]"
            ]
          },
          "metadata": {},
          "execution_count": 73
        },
        {
          "output_type": "display_data",
          "data": {
            "text/plain": [
              "<Figure size 432x288 with 1 Axes>"
            ],
            "image/png": "[encoded data removed]"
          },
          "metadata": {
            "needs_background": "light"
          }
        }
      ]
    },
    {
      "cell_type": "code",
      "source": [
        "LR.score(X2_test.values.reshape(-1, 1), y_test.values)"
      ],
      "metadata": {
        "colab": {
          "base_uri": "https://localhost:8080/"
        },
        "id": "M-5jaYKsb5Ae",
        "outputId": "8f6b374e-1352-49aa-afa1-1dbefcec0da7"
      },
      "execution_count": 74,
      "outputs": [
        {
          "output_type": "execute_result",
          "data": {
            "text/plain": [
              "0.401719617078915"
            ]
          },
          "metadata": {},
          "execution_count": 74
        }
      ]
    },
    {
      "cell_type": "markdown",
      "source": [
        "Last try with hour and month"
      ],
      "metadata": {
        "id": "Nin4ru8fdbBA"
      }
    },
    {
      "cell_type": "code",
      "source": [
        "X4 = df[['Humidity', 'Visibility (km)', 'Hour', 'Month']]"
      ],
      "metadata": {
        "id": "Gogmw3FncF9q"
      },
      "execution_count": 76,
      "outputs": []
    },
    {
      "cell_type": "code",
      "source": [
        "X4_train, X4_test, y_train, y_test = train_test_split(X, y, test_size=0.33, random_state=2)"
      ],
      "metadata": {
        "id": "iP9hTho4dvt-"
      },
      "execution_count": 77,
      "outputs": []
    },
    {
      "cell_type": "code",
      "source": [
        "LR = LinearRegression().fit(X4_train.values.reshape(-1, 1), y_train.values.reshape(-1, 1))\n",
        "predict4 = LR.predict(X4_test.values.reshape(-1, 1))"
      ],
      "metadata": {
        "id": "fkwtRBjnd5tI"
      },
      "execution_count": 80,
      "outputs": []
    },
    {
      "cell_type": "code",
      "source": [
        "plt.scatter(X4_test, y_test, alpha=0.5)\n",
        "plt.plot(X4_test, predict4, color='g')"
      ],
      "metadata": {
        "colab": {
          "base_uri": "https://localhost:8080/",
          "height": 282
        },
        "id": "GscbhvZ-d900",
        "outputId": "c1e3dfbb-f011-41c6-9b5a-00e44399610e"
      },
      "execution_count": 81,
      "outputs": [
        {
          "output_type": "execute_result",
          "data": {
            "text/plain": [
              "[<matplotlib.lines.Line2D at 0x7f2bf95300d0>]"
            ]
          },
          "metadata": {},
          "execution_count": 81
        },
        {
          "output_type": "display_data",
          "data": {
            "text/plain": [
              "<Figure size 432x288 with 1 Axes>"
            ],
            "image/png": "[encoded data removed]"
          },
          "metadata": {
            "needs_background": "light"
          }
        }
      ]
    },
    {
      "cell_type": "code",
      "source": [
        "LR.score(X4_test.values.reshape(-1, 1), y_test.values)"
      ],
      "metadata": {
        "colab": {
          "base_uri": "https://localhost:8080/"
        },
        "id": "yLf4sCnYeBB4",
        "outputId": "46425cf5-54c0-4f80-d745-9a6118a36cfb"
      },
      "execution_count": 83,
      "outputs": [
        {
          "output_type": "execute_result",
          "data": {
            "text/plain": [
              "0.3998991547128192"
            ]
          },
          "metadata": {},
          "execution_count": 83
        }
      ]
    },
    {
      "cell_type": "markdown",
      "source": [
        ""
      ],
      "metadata": {
        "id": "DFeicOXBeu1N"
      }
    },
    {
      "cell_type": "code",
      "source": [
        ""
      ],
      "metadata": {
        "id": "1koki3GAeGcE"
      },
      "execution_count": null,
      "outputs": []
    }
  ]
}